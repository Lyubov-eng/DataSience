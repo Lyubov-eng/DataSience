{
 "cells": [
  {
   "cell_type": "code",
   "execution_count": 2,
   "metadata": {},
   "outputs": [
    {
     "name": "stdout",
     "output_type": "stream",
     "text": [
      "25\n",
      "Ноябрь\n",
      "Ваш знак зодиака: Стрелец\n"
     ]
    }
   ],
   "source": [
    "date = int(input())\n",
    "month = str(input())\n",
    "if date >= 21 and date <= 31 and month == 'Март' or date >= 1 and date <= 20 and month == \"Апрель\":\n",
    "    print(\"Ваш знак зодиака: Овен\")\n",
    "elif date >= 21 and date <= 30 and month == 'Апрель' or date >= 1 and date <= 20 and month == \"Май\":\n",
    "    print(\"Ваш знак зодиака: Телец\")\n",
    "elif date >= 21 and date <= 31 and month == 'Май' or date >= 1 and date <= 21 and month == \"Июнь\":\n",
    "    print(\"Ваш знак зодиака: Близнецы\")\n",
    "elif date >= 22 and date <= 30 and month == 'Июнь' or date >= 1 and date <= 22 and month == \"Июль\":\n",
    "    print(\"Ваш знак зодиака: Рак\")\n",
    "elif date >= 23 and date <= 31 and month == 'Июль' or date >= 1 and date <= 23 and month == \"Август\":\n",
    "    print(\"Ваш знак зодиака: Лев\")\n",
    "elif date >= 24 and date <= 31 and month == 'Август' or date >= 1 and date <= 23 and month == \"Сентябрь\":\n",
    "    print(\"Ваш знак зодиака: Дева\")\n",
    "elif date >= 24 and date <= 30 and month == 'Сентябрь' or date >= 1 and date <= 23 and month == \"Октябрь\":\n",
    "    print(\"Ваш знак зодиака: Весы\")\n",
    "elif date >= 24 and date <= 31 and month == 'Октябрь' or date >= 1 and date <= 22 and month == \"Ноябрь\":\n",
    "    print(\"Ваш знак зодиака: Скорпион\")\n",
    "elif date >= 23 and date <= 30 and month == 'Ноябрь' or date >= 1 and date <= 21 and month == \"Декабрь\":\n",
    "    print(\"Ваш знак зодиака: Стрелец\")\n",
    "elif date >= 22 and date <= 31 and month == 'Декабрь' or date >= 1 and date <= 20 and month == \"Январь\":\n",
    "    print(\"Ваш знак зодиака: Козерог\")\n",
    "elif date >= 21 and date <= 30 and month == 'Январь' or date >= 1 and date <= 18 and month == \"Февраль\":\n",
    "    print(\"Ваш знак зодиака: Водолей\")\n",
    "elif date >= 19 and date <= 29 and month == 'Февраль' or date >= 1 and date <= 20 and month == \"Март\":\n",
    "    print(\"Ваш знак зодиака: Рыбы\")"
   ]
  }
 ],
 "metadata": {
  "kernelspec": {
   "display_name": "Python 3",
   "language": "python",
   "name": "python3"
  },
  "language_info": {
   "codemirror_mode": {
    "name": "ipython",
    "version": 3
   },
   "file_extension": ".py",
   "mimetype": "text/x-python",
   "name": "python",
   "nbconvert_exporter": "python",
   "pygments_lexer": "ipython3",
   "version": "3.8.5"
  }
 },
 "nbformat": 4,
 "nbformat_minor": 4
}
