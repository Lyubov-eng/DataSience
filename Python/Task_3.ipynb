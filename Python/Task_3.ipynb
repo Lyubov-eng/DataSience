{
 "cells": [
  {
   "cell_type": "code",
   "execution_count": 7,
   "metadata": {},
   "outputs": [
    {
     "name": "stdout",
     "output_type": "stream",
     "text": [
      "Ваш знак зодиака: Дева\n"
     ]
    }
   ],
   "source": [
    "date = 30\n",
    "month = \"Август\"\n",
    "if date >= 22 and date <= 31 and month == 'Август' or date >= 1 and date <= 23 and month == \"Сентябрь\":\n",
    "    print(\"Ваш знак зодиака: Дева\")"
   ]
  },
  {
   "cell_type": "code",
   "execution_count": 9,
   "metadata": {},
   "outputs": [
    {
     "name": "stdout",
     "output_type": "stream",
     "text": [
      "Ваш знак зодиака: Скорпион\n"
     ]
    }
   ],
   "source": [
    "date = 29\n",
    "month = \"Октябрь\"\n",
    "if date >= 24 and date <= 31 and month == 'Октябрь' or date >= 1 and date <= 22 and month == \"Ноябрь\":\n",
    "    print(\"Ваш знак зодиака: Скорпион\")"
   ]
  }
 ],
 "metadata": {
  "kernelspec": {
   "display_name": "Python 3",
   "language": "python",
   "name": "python3"
  },
  "language_info": {
   "codemirror_mode": {
    "name": "ipython",
    "version": 3
   },
   "file_extension": ".py",
   "mimetype": "text/x-python",
   "name": "python",
   "nbconvert_exporter": "python",
   "pygments_lexer": "ipython3",
   "version": "3.8.5"
  }
 },
 "nbformat": 4,
 "nbformat_minor": 4
}
